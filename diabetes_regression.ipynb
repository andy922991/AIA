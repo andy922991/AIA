{
 "cells": [
  {
   "cell_type": "markdown",
   "metadata": {},
   "source": [
    "# 1. Load Data"
   ]
  },
  {
   "cell_type": "code",
   "execution_count": null,
   "metadata": {
    "colab": {},
    "colab_type": "code",
    "id": "F-LX9nEdFY5O"
   },
   "outputs": [],
   "source": [
    "import pandas as pd\n",
    "import seaborn as sns\n",
    "from sklearn.datasets import load_diabetes\n",
    "diabetes = load_diabetes()"
   ]
  },
  {
   "cell_type": "code",
   "execution_count": null,
   "metadata": {
    "colab": {
     "base_uri": "https://localhost:8080/",
     "height": 717
    },
    "colab_type": "code",
    "executionInfo": {
     "elapsed": 587,
     "status": "ok",
     "timestamp": 1538790676700,
     "user": {
      "displayName": "Yen Shing Chuang",
      "photoUrl": "",
      "userId": "15953960325102165089"
     },
     "user_tz": -480
    },
    "id": "YpCkNyjtFY5R",
    "outputId": "3bdd54bd-1659-423c-955e-124f8317976a"
   },
   "outputs": [],
   "source": [
    "print(diabetes.DESCR)"
   ]
  },
  {
   "cell_type": "code",
   "execution_count": null,
   "metadata": {},
   "outputs": [],
   "source": [
    "diabetes"
   ]
  },
  {
   "cell_type": "code",
   "execution_count": null,
   "metadata": {},
   "outputs": [],
   "source": [
    "diabetes.data.shape"
   ]
  },
  {
   "cell_type": "markdown",
   "metadata": {},
   "source": [
    "### 1-1. 轉成pandas dataframe"
   ]
  },
  {
   "cell_type": "code",
   "execution_count": null,
   "metadata": {},
   "outputs": [],
   "source": [
    "df_data = pd.DataFrame(data = diabetes.data, columns = diabetes.feature_names)"
   ]
  },
  {
   "cell_type": "code",
   "execution_count": null,
   "metadata": {},
   "outputs": [],
   "source": [
    "df_data['target'] = diabetes.target"
   ]
  },
  {
   "cell_type": "markdown",
   "metadata": {},
   "source": [
    "### 1-2. 檢視資料\n",
    "- 使用 head() 觀看前幾項的資料\n",
    "- 使用 dataframe的 info, describe, dtypes\n"
   ]
  },
  {
   "cell_type": "code",
   "execution_count": null,
   "metadata": {},
   "outputs": [],
   "source": [
    "# 使用 head()\n"
   ]
  },
  {
   "cell_type": "code",
   "execution_count": null,
   "metadata": {},
   "outputs": [],
   "source": [
    "# 使用 info()\n"
   ]
  },
  {
   "cell_type": "code",
   "execution_count": null,
   "metadata": {},
   "outputs": [],
   "source": [
    "# 使用 describe()\n"
   ]
  },
  {
   "cell_type": "code",
   "execution_count": null,
   "metadata": {},
   "outputs": [],
   "source": [
    "# 使用 dtypes\n"
   ]
  },
  {
   "cell_type": "markdown",
   "metadata": {},
   "source": [
    "# 2. EDA\n",
    "- 使用圖表對資料作分析 \n",
    "- 使用長條圖、熱力圖、散點圖矩陣等圖表練習"
   ]
  },
  {
   "cell_type": "markdown",
   "metadata": {},
   "source": [
    "### 2-1. 使用箱型圖對資料做探索"
   ]
  },
  {
   "cell_type": "code",
   "execution_count": null,
   "metadata": {},
   "outputs": [],
   "source": []
  },
  {
   "cell_type": "markdown",
   "metadata": {},
   "source": [
    "### 2-2. 選擇一種圖表對 target做圖看資料散布狀況 (ex.長條圖"
   ]
  },
  {
   "cell_type": "code",
   "execution_count": null,
   "metadata": {
    "colab": {
     "base_uri": "https://localhost:8080/",
     "height": 364
    },
    "colab_type": "code",
    "executionInfo": {
     "elapsed": 799,
     "status": "ok",
     "timestamp": 1538790684742,
     "user": {
      "displayName": "Yen Shing Chuang",
      "photoUrl": "",
      "userId": "15953960325102165089"
     },
     "user_tz": -480
    },
    "id": "dMe6GW0JFY5Z",
    "outputId": "580c1576-db18-4fc6-8ff5-885bc35e1880"
   },
   "outputs": [],
   "source": []
  },
  {
   "cell_type": "markdown",
   "metadata": {},
   "source": [
    "### 2-3. 使用散點圖矩陣觀看資料 (pairplot)"
   ]
  },
  {
   "cell_type": "code",
   "execution_count": null,
   "metadata": {
    "colab": {
     "base_uri": "https://localhost:8080/",
     "height": 1838
    },
    "colab_type": "code",
    "executionInfo": {
     "elapsed": 12534,
     "status": "ok",
     "timestamp": 1538790702682,
     "user": {
      "displayName": "Yen Shing Chuang",
      "photoUrl": "",
      "userId": "15953960325102165089"
     },
     "user_tz": -480
    },
    "id": "rV8g3wVGFY5g",
    "outputId": "593ff2d2-e6d1-4801-adb5-19b00fcbd4f2"
   },
   "outputs": [],
   "source": []
  },
  {
   "cell_type": "markdown",
   "metadata": {},
   "source": [
    "### 2-3(續). 針對特定兩個欄位做散布圖矩陣"
   ]
  },
  {
   "cell_type": "code",
   "execution_count": null,
   "metadata": {
    "colab": {
     "base_uri": "https://localhost:8080/",
     "height": 738
    },
    "colab_type": "code",
    "executionInfo": {
     "elapsed": 2006,
     "status": "ok",
     "timestamp": 1538790704972,
     "user": {
      "displayName": "Yen Shing Chuang",
      "photoUrl": "",
      "userId": "15953960325102165089"
     },
     "user_tz": -480
    },
    "id": "OIbs50-_FY5i",
    "outputId": "d688f0c4-404c-42d5-f4a6-92c19e7e8d57"
   },
   "outputs": [],
   "source": [
    "cols = ['bmi', 's1']\n",
    "sns.pairplot(....)  #type your code here"
   ]
  },
  {
   "cell_type": "markdown",
   "metadata": {
    "colab": {},
    "colab_type": "code",
    "id": "rj-jJrzLFY5k"
   },
   "source": [
    "### 2-4. 使用熱力圖觀看每一項的相關係數"
   ]
  },
  {
   "cell_type": "code",
   "execution_count": null,
   "metadata": {
    "colab": {
     "base_uri": "https://localhost:8080/",
     "height": 364
    },
    "colab_type": "code",
    "executionInfo": {
     "elapsed": 1715,
     "status": "ok",
     "timestamp": 1538790708563,
     "user": {
      "displayName": "Yen Shing Chuang",
      "photoUrl": "",
      "userId": "15953960325102165089"
     },
     "user_tz": -480
    },
    "id": "RIqQy_UrFY5n",
    "outputId": "f2639d0b-6f2d-452a-d69e-c414d9a3ec4f"
   },
   "outputs": [],
   "source": [
    "corr = df_data.corr()\n",
    "sns.heatmap(....) #type your code here"
   ]
  },
  {
   "cell_type": "markdown",
   "metadata": {},
   "source": [
    "# 3. 訓練模型"
   ]
  },
  {
   "cell_type": "markdown",
   "metadata": {},
   "source": [
    "### 3-1. 切分訓練/測試集"
   ]
  },
  {
   "cell_type": "code",
   "execution_count": null,
   "metadata": {
    "colab": {},
    "colab_type": "code",
    "id": "V4W6LS2SFY5o"
   },
   "outputs": [],
   "source": [
    "from sklearn.model_selection import train_test_split\n",
    "X_train, X_test, y_train, y_test = train_test_split(......) #type your code here"
   ]
  },
  {
   "cell_type": "markdown",
   "metadata": {},
   "source": [
    "### 3-2. 選擇訓練模型"
   ]
  },
  {
   "cell_type": "code",
   "execution_count": null,
   "metadata": {
    "colab": {},
    "colab_type": "code",
    "id": "HB3MeRwlbLEr"
   },
   "outputs": [],
   "source": [
    "from sklearn import tree\n",
    "model = tree.DecisionTreeRegressor()"
   ]
  },
  {
   "cell_type": "markdown",
   "metadata": {},
   "source": [
    "### 3-3. model fit"
   ]
  },
  {
   "cell_type": "code",
   "execution_count": null,
   "metadata": {
    "colab": {},
    "colab_type": "code",
    "id": "tNnAz64TcsaR"
   },
   "outputs": [],
   "source": [
    "model.fit(....) #type your code here\n",
    "pred = model.predict(....) #type your code here"
   ]
  },
  {
   "cell_type": "markdown",
   "metadata": {},
   "source": [
    "### 3-4. 評估模型準確率"
   ]
  },
  {
   "cell_type": "code",
   "execution_count": null,
   "metadata": {
    "colab": {
     "base_uri": "https://localhost:8080/",
     "height": 51
    },
    "colab_type": "code",
    "executionInfo": {
     "elapsed": 623,
     "status": "ok",
     "timestamp": 1538790711147,
     "user": {
      "displayName": "Yen Shing Chuang",
      "photoUrl": "",
      "userId": "15953960325102165089"
     },
     "user_tz": -480
    },
    "id": "15hidCrxWUk5",
    "outputId": "a456b00b-a365-4677-eb46-9c26650a5c0f"
   },
   "outputs": [],
   "source": [
    "from sklearn import metrics\n",
    "print(\"MAE:%.2f\"% metrics.mean_absolute_error(.....)) #type your code here\n",
    "print(\"R2:%.2f\"% metrics.r2_score(.....)) #type your code here\n"
   ]
  },
  {
   "cell_type": "markdown",
   "metadata": {},
   "source": [
    "# 請挑選其他的模型練習一次"
   ]
  },
  {
   "cell_type": "code",
   "execution_count": null,
   "metadata": {},
   "outputs": [],
   "source": [
    "### 練習時間"
   ]
  },
  {
   "cell_type": "code",
   "execution_count": null,
   "metadata": {},
   "outputs": [],
   "source": []
  }
 ],
 "metadata": {
  "colab": {
   "collapsed_sections": [],
   "name": "diabetes_regression.ipynb",
   "provenance": [],
   "version": "0.3.2"
  },
  "kernelspec": {
   "display_name": "Python 3",
   "language": "python",
   "name": "python3"
  },
  "language_info": {
   "codemirror_mode": {
    "name": "ipython",
    "version": 3
   },
   "file_extension": ".py",
   "mimetype": "text/x-python",
   "name": "python",
   "nbconvert_exporter": "python",
   "pygments_lexer": "ipython3",
   "version": "3.6.6"
  }
 },
 "nbformat": 4,
 "nbformat_minor": 1
}
